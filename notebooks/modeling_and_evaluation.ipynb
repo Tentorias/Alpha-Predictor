{
 "cells": [
  {
   "cell_type": "markdown",
   "id": "c1bb64a4-565a-4b1e-8291-c19140f3f8d7",
   "metadata": {},
   "source": [
    "# Import Lib"
   ]
  },
  {
   "cell_type": "code",
   "execution_count": 19,
   "id": "e865b1f5-7224-4245-be4e-5a9d01d036d6",
   "metadata": {},
   "outputs": [],
   "source": [
    "import pandas as pd\n",
    "import joblib\n",
    "import os\n",
    "import seaborn as sns\n",
    "import matplotlib.pyplot as plt\n",
    "\n",
    "\n",
    "from sklearn.ensemble import RandomForestClassifier\n",
    "from sklearn.model_selection import train_test_split\n",
    "from sklearn.metrics import accuracy_score, precision_score, recall_score, f1_score, confusion_matrix"
   ]
  },
  {
   "cell_type": "code",
   "execution_count": 20,
   "id": "32e75fdc-c90d-4669-b56d-38512889df40",
   "metadata": {},
   "outputs": [
    {
     "name": "stdout",
     "output_type": "stream",
     "text": [
      "Error: File data/processed/combined_data.csv not found. Run preprocessing notebook.\n"
     ]
    }
   ],
   "source": [
    "# --- Block 1: Load the processed DataFrame ---\n",
    "processed_data_path = \"data/processed/combined_data.csv\"\n",
    "\n",
    "try:\n",
    "    combined_df = pd.read_csv(processed_data_path, index_col = \"Date\", parse_dates = True)\n",
    "    print(\"Combined DataFrame loaded successfully\")\n",
    "except FileNotFoundError:\n",
    "    print(f\"Error: File {processed_data_path} not found. Run preprocessing notebook.\")\n"
   ]
  },
  {
   "cell_type": "markdown",
   "id": "756b596f-ab96-4e47-b0a9-ebcaee8502ff",
   "metadata": {},
   "source": [
    "# Separation of features (X) and target variable (y)"
   ]
  },
  {
   "cell_type": "code",
   "execution_count": 21,
   "id": "63e41744-12d1-46c5-b2a9-ab913bdae0ae",
   "metadata": {},
   "outputs": [
    {
     "name": "stdout",
     "output_type": "stream",
     "text": [
      "\n",
      "Features (X) and target variable (y) separated.\n",
      "Feature columns (X): ['Close', 'Volume', 'Daily_Return', 'SMA_5', 'SMA_10', 'SMA_20', 'RSI', 'MACD']\n"
     ]
    }
   ],
   "source": [
    "X = combined_df.drop(\"target\", axis = 1)\n",
    "y = combined_df[\"target\"]\n",
    "\n",
    "print(\"\\nFeatures (X) and target variable (y) separated.\")\n",
    "print(f\"Feature columns (X): {X.columns.tolist()}\")"
   ]
  },
  {
   "cell_type": "markdown",
   "id": "638210d6-2a28-49d1-b197-adb74ebda469",
   "metadata": {},
   "source": [
    "# Chronological division of data "
   ]
  },
  {
   "cell_type": "code",
   "execution_count": 22,
   "id": "b0a1e335-a471-4cdb-8fbf-e8cfb6920b2f",
   "metadata": {},
   "outputs": [
    {
     "name": "stdout",
     "output_type": "stream",
     "text": [
      "\n",
      "Data chronological split complete.\n",
      "Training set size: 3939 (80.00%)\n",
      "Test set size: 985 (20.00%)\n",
      "Training start date: 2015-02-06 00:00:00 | Training end date: 2024-12-30 00:00:00\n",
      "Test start date: 2021-01-19 00:00:00 | Test end date: 2024-12-30 00:00:00\n"
     ]
    }
   ],
   "source": [
    "# 80% of the oldest data for training and 20% of the newest data for testing.\n",
    "\n",
    "train_size = int(0.80 * len(combined_df))\n",
    "\n",
    "X_train = X.iloc[:train_size]\n",
    "X_test = X.iloc[train_size:]\n",
    "\n",
    "y_train = y.iloc[:train_size]\n",
    "y_test = y.iloc[train_size:]\n",
    "\n",
    "print(f\"\\nData chronological split complete.\")\n",
    "print(f\"Training set size: {len(X_train)} ({len(X_train)/len(combined_df):.2%})\")\n",
    "print(f\"Test set size: {len(X_test)} ({len(X_test)/len(combined_df):.2%})\")\n",
    "print(f\"Training start date: {X_train.index.min()} | Training end date: {X_train.index.max()}\")\n",
    "print(f\"Test start date: {X_test.index.min()} | Test end date: {X_test.index.max()}\")"
   ]
  },
  {
   "cell_type": "markdown",
   "id": "8d9e467e-395b-4b80-951d-0c2f413f7c7a",
   "metadata": {},
   "source": [
    "# Model instantiation and training"
   ]
  },
  {
   "cell_type": "code",
   "execution_count": 23,
   "id": "ceddfb94-f8bc-4a8f-8d0c-245bce956f31",
   "metadata": {},
   "outputs": [
    {
     "name": "stdout",
     "output_type": "stream",
     "text": [
      "\n",
      "Starting model training...\n",
      "Model training completed successfully!\n"
     ]
    }
   ],
   "source": [
    "model = RandomForestClassifier(n_estimators = 100, random_state = 42)\n",
    "\n",
    "print(\"\\nStarting model training...\")\n",
    "model.fit(X_train, y_train)\n",
    "print(\"Model training completed successfully!\")"
   ]
  },
  {
   "cell_type": "markdown",
   "id": "3bbf015c-958c-4acc-8dbf-f6be51255f7d",
   "metadata": {},
   "source": [
    "# Model Evaluation"
   ]
  },
  {
   "cell_type": "code",
   "execution_count": 24,
   "id": "5c38b268-a036-4b4e-ac6b-08dd02dc80c4",
   "metadata": {},
   "outputs": [
    {
     "name": "stdout",
     "output_type": "stream",
     "text": [
      "Accuracy:  0.4711\n",
      "Precision:  0.4618\n",
      "Recall:  0.6695\n",
      "F1-Score:  0.5466\n",
      "\n",
      "Confusion Matrix:\n",
      "[[150 366]\n",
      " [155 314]]\n"
     ]
    },
    {
     "data": {
      "image/png": "[encoded data removed]",
      "text/plain": [
       "<Figure size 800x600 with 2 Axes>"
      ]
     },
     "metadata": {},
     "output_type": "display_data"
    }
   ],
   "source": [
    "# Prediction and Evaluation Metrics\n",
    "y_pred = model.predict(X_test)\n",
    "\n",
    "# Calculate Performance Metrics\n",
    "accuracy = accuracy_score(y_test, y_pred)\n",
    "precision = precision_score(y_test, y_pred)\n",
    "recall = recall_score(y_test, y_pred)\n",
    "f1 = f1_score(y_test, y_pred)\n",
    "\n",
    "print(f\"Accuracy: {accuracy: .4f}\")\n",
    "print(f\"Precision: {precision: .4f}\")\n",
    "print(f\"Recall: {recall: .4f}\")\n",
    "print(f\"F1-Score: {f1: .4f}\")\n",
    "\n",
    "# Generate the Confusion Matrix\n",
    "conf_matrix = confusion_matrix(y_test, y_pred)\n",
    "\n",
    "print(\"\\nConfusion Matrix:\")\n",
    "print(conf_matrix)\n",
    "\n",
    "# Visualize the Confusion Matrix for Better Understanding\n",
    "plt.figure(figsize = (8, 6))\n",
    "sns.heatmap(conf_matrix, annot = True, fmt = \"d\", cmap = \"Blues\",\n",
    "           xticklabels = [\"Down (0)', 'Up (1)\"],\n",
    "           yticklabels = [\"Down (0)', 'Up (1)\"])\n",
    "\n",
    "plt.xlabel('Model Predictions')\n",
    "plt.ylabel('Actual Values')\n",
    "plt.title('RandomForestClassifier Confusion Matrix')\n",
    "plt.show()"
   ]
  },
  {
   "cell_type": "markdown",
   "id": "c9253326-c0a1-486c-8134-e238af88e8d0",
   "metadata": {},
   "source": [
    "# Exporting the Test DataFrame"
   ]
  },
  {
   "cell_type": "code",
   "execution_count": 25,
   "id": "093de579-fd3a-4f7d-987c-53c46fe17be3",
   "metadata": {},
   "outputs": [
    {
     "name": "stdout",
     "output_type": "stream",
     "text": [
      "\n",
      "Test Results DataFrame:\n",
      "                Close      Volume  Daily_Return      SMA_5     SMA_10  \\\n",
      "Date                                                                    \n",
      "2021-01-19  59.215462  27155400.0     -0.002651  59.925591  61.537238   \n",
      "2021-01-20  58.120041  20480000.0     -0.018499  59.434541  61.302416   \n",
      "2021-01-21  58.774773  25983400.0      0.011265  58.875501  60.738340   \n",
      "2021-01-22  58.655174  25814300.0     -0.002035  58.827657  60.182449   \n",
      "2021-01-26  57.761208  24921600.0     -0.015241  58.505331  59.538420   \n",
      "\n",
      "               SMA_20        RSI      MACD  Actual_Target  Predicted_Target  \n",
      "Date                                                                         \n",
      "2021-01-19  58.545934  58.449062  2.611669              0                 0  \n",
      "2021-01-20  58.707098  54.024329  2.286712              1                 1  \n",
      "2021-01-21  58.882113  56.160529  2.058286              0                 0  \n",
      "2021-01-22  59.080736  55.651854  1.846323              0                 1  \n",
      "2021-01-26  59.232143  51.869991  1.587901              0                 1  \n",
      "\n",
      "Results DataFrame exported to: ../data/results\\model_predictions.csv\n"
     ]
    }
   ],
   "source": [
    "# Preparing and Exporting the DataFrame to Power BI\n",
    "\n",
    "# Creating a DataFrame with the test results\n",
    "results_df = X_test.copy()\n",
    "results_df['Actual_Target'] = y_test\n",
    "results_df[\"Predicted_Target\"] = y_pred\n",
    "\n",
    "# Displaying the first few rows for verification\n",
    "print(\"\\nTest Results DataFrame:\")\n",
    "print(results_df.head())\n",
    "\n",
    "# Creating the 'data/results' folder if it doesn't exist\n",
    "results_path = \"../data/results\"\n",
    "os.makedirs(results_path, exist_ok = True)\n",
    "\n",
    "# Exporting the DataFrame to a CSV file\n",
    "results_file_path = os.path.join(results_path, \"model_predictions.csv\")\n",
    "results_df.to_csv(results_file_path, index = True)\n",
    "\n",
    "print(f\"\\nResults DataFrame exported to: {results_file_path}\")"
   ]
  },
  {
   "cell_type": "markdown",
   "id": "91be437d-0853-469e-a97f-2f9d6a49faf3",
   "metadata": {},
   "source": [
    "# Saving the Model for Production"
   ]
  },
  {
   "cell_type": "code",
   "execution_count": 27,
   "id": "0dad6333-88c1-4d0e-85b6-eee25fecf827",
   "metadata": {},
   "outputs": [
    {
     "name": "stdout",
     "output_type": "stream",
     "text": [
      "\n",
      "Trained model successfully saved to: ../model/alpha_predictor_model.pkl\n"
     ]
    }
   ],
   "source": [
    "# Set the path and name of the .pkl file\n",
    "model_output_path = \"../model/\"\n",
    "model_filename = \"alpha_predictor_model.pkl\"\n",
    "\n",
    "# Create the 'model' folder if it doesn't exist\n",
    "os.makedirs(model_output_path, exist_ok = True)\n",
    "\n",
    "# Save the model to the .pkl file\n",
    "joblib.dump(model, os.path.join(model_output_path, model_filename))\n",
    "\n",
    "print(f\"\\nTrained model successfully saved to: {os.path.join(model_output_path, model_filename)}\")"
   ]
  },
  {
   "cell_type": "code",
   "execution_count": null,
   "id": "0a8c4e7d-b0bd-4f38-a8c0-fd52058de0a5",
   "metadata": {},
   "outputs": [],
   "source": []
  }
 ],
 "metadata": {
  "kernelspec": {
   "display_name": "Python (alpha_predictor_env)",
   "language": "python",
   "name": "alpha_predictor_env"
  },
  "language_info": {
   "codemirror_mode": {
    "name": "ipython",
    "version": 3
   },
   "file_extension": ".py",
   "mimetype": "text/x-python",
   "name": "python",
   "nbconvert_exporter": "python",
   "pygments_lexer": "ipython3",
   "version": "3.10.0"
  }
 },
 "nbformat": 4,
 "nbformat_minor": 5
}
