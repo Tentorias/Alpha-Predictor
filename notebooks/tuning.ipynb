{
 "cells": [
  {
   "cell_type": "markdown",
   "id": "3e2b39f1-64d4-4ba3-8404-c06f3e5fdfe9",
   "metadata": {},
   "source": [
    "# Load Lib"
   ]
  },
  {
   "cell_type": "code",
   "execution_count": 14,
   "id": "1a5a072e-1df3-426c-89c9-7ee9047492fd",
   "metadata": {},
   "outputs": [],
   "source": [
    "import pandas as pd\n",
    "import numpy as np\n",
    "import os\n",
    "import joblib\n",
    "from sklearn.ensemble import RandomForestClassifier\n",
    "from sklearn.model_selection import RandomizedSearchCV\n",
    "from sklearn.metrics import accuracy_score, precision_score, recall_score, f1_score, confusion_matrix\n",
    "import seaborn as sns\n",
    "import matplotlib.pyplot as plt"
   ]
  },
  {
   "cell_type": "markdown",
   "id": "d978f0ed-d86a-4f3e-9e9a-b1837d684a5a",
   "metadata": {},
   "source": [
    "# Load Dataset"
   ]
  },
  {
   "cell_type": "code",
   "execution_count": 15,
   "id": "d58bb393-ca87-4125-b91a-d7b2ebfdce2f",
   "metadata": {},
   "outputs": [],
   "source": [
    "processed_data_path = '../data/processed/combined_data.csv'"
   ]
  },
  {
   "cell_type": "code",
   "execution_count": 19,
   "id": "1193c8ac-befb-4389-9bae-cbb93514ce9b",
   "metadata": {},
   "outputs": [
    {
     "name": "stdout",
     "output_type": "stream",
     "text": [
      "Successfully loaded combined DataFrame for fitting.\n",
      "\n",
      "Chronological division of data completed.\n",
      "Train size: X_train.shape = (3939, 8), y_train.shape = (3939,)\n",
      "Test size: X_test.shape = (985, 8), y_test.shape = (985,)\n"
     ]
    }
   ],
   "source": [
    "try:\n",
    "    combined_df = pd.read_csv(processed_data_path, index_col = \"Date\", parse_dates = True)\n",
    "    print(\"Successfully loaded combined DataFrame for fitting.\")\n",
    "except FileNotFoundError:\n",
    "    print(f\"Error: File {processed_data_path} not found. Run preprocessing notebook.\")\n",
    "\n",
    "# Separation of features (X) and target variable (y)\n",
    "X = combined_df.drop(\"target\", axis = 1)\n",
    "y = combined_df[\"target\"]\n",
    "\n",
    "# Chronological division of data\n",
    "train_size = int(0.8 * len(combined_df))\n",
    "\n",
    "X_train = X.iloc[:train_size]\n",
    "X_test = X.iloc[train_size:]\n",
    "\n",
    "y_train = y.iloc[:train_size]\n",
    "y_test = y.iloc[train_size:]\n",
    "\n",
    "print(\"\\nChronological division of data completed.\")\n",
    "print(f\"Train size: X_train.shape = {X_train.shape}, y_train.shape = {y_train.shape}\")\n",
    "print(f\"Test size: X_test.shape = {X_test.shape}, y_test.shape = {y_test.shape}\")"
   ]
  },
  {
   "cell_type": "markdown",
   "id": "ba37327b-06dd-450b-8594-f1fc7c7ff580",
   "metadata": {},
   "source": [
    "# Hyperparameter Tuning"
   ]
  },
  {
   "cell_type": "code",
   "execution_count": 22,
   "id": "45921096-dd7c-473a-95a1-ef4e5c388a4d",
   "metadata": {},
   "outputs": [
    {
     "name": "stdout",
     "output_type": "stream",
     "text": [
      "\n",
      "Starting Randomized Search for hyperparameter tuning...\n",
      "Fitting 5 folds for each of 100 candidates, totalling 500 fits\n",
      "\\Best hyperparameters found:\n",
      "{'n_estimators': 800, 'min_samples_split': 5, 'min_samples_leaf': 1, 'max_features': 'sqrt', 'max_depth': 10, 'bootstrap': True}\n"
     ]
    }
   ],
   "source": [
    "# Hyperparameters to be optimized in RandomForestClassifier\n",
    "param_grid = {\n",
    "    \"n_estimators\": [int(x) for x in np.linspace(start = 100, stop = 1000, num = 10)],\n",
    "    \"max_features\": [\"sqrt\", \"log2\"],\n",
    "    \"max_depth\": [int(x) for x in np.linspace(10, 110, num = 11)] + [None],\n",
    "    \"min_samples_split\": [2, 5, 10],\n",
    "    \"min_samples_leaf\": [1, 2, 4],\n",
    "    \"bootstrap\": [True, False]\n",
    "}\n",
    "\n",
    "# Instantiate the base model for Randomized Search\n",
    "rf = RandomForestClassifier(random_state = 42)\n",
    "\n",
    "# Configure RandomizedSearchCV\n",
    "# n_iter: Number of hyperparameter combinations to test (100 is a good starting number)\n",
    "# cv: Number of folds for cross-validation (usually 5)\n",
    "# n_jobs: -1 to use all processor cores to speed up the process\n",
    "rf_random = RandomizedSearchCV(estimator = rf, param_distributions = param_grid, n_iter = 100, cv = 5, verbose = 2, random_state = 42, n_jobs = -1, scoring = \"f1\")\n",
    "\n",
    "print(\"\\nStarting Randomized Search for hyperparameter tuning...\")\n",
    "\n",
    "rf_random.fit(X_train, y_train)\n",
    "\n",
    "print(\"\\Best hyperparameters found:\")\n",
    "print(rf_random.best_params_)"
   ]
  },
  {
   "cell_type": "markdown",
   "id": "578ba8dc-475c-4cb0-8238-81b2a8a65c51",
   "metadata": {},
   "source": [
    "# Evaluate the optimized model"
   ]
  },
  {
   "cell_type": "code",
   "execution_count": 28,
   "id": "0db2fd9f-4bbf-4ab5-879f-22af9ce7fff4",
   "metadata": {},
   "outputs": [
    {
     "name": "stdout",
     "output_type": "stream",
     "text": [
      "\n",
      "--- Optimized Model Results ---\n",
      "Accuracy: 0.4670\n",
      "Precision: 0.4580\n",
      "Recall: 0.6503\n",
      "F1-Score: 0.5374\n",
      "\n",
      " Optimized Confusion Matrix:\n",
      "[[155 361]\n",
      " [164 305]]\n"
     ]
    },
    {
     "data": {
      "image/png": "[encoded data removed]",
      "text/plain": [
       "<Figure size 800x600 with 2 Axes>"
      ]
     },
     "metadata": {},
     "output_type": "display_data"
    }
   ],
   "source": [
    "# Obter o melhor modelo do Randomized Search\n",
    "best_model = rf_random.best_estimator_\n",
    "\n",
    "# Make predictions with the optimized model on the test set\n",
    "y_pred_tuned = best_model.predict(X_test)\n",
    "\n",
    "# Calculate and display performance metrics\n",
    "accuracy_tuned = accuracy_score(y_test, y_pred_tuned)\n",
    "precision_tuned = precision_score(y_test, y_pred_tuned)\n",
    "recall_tuned = recall_score(y_test, y_pred_tuned)\n",
    "f1_tuned = f1_score(y_test, y_pred_tuned)\n",
    "\n",
    "print(\"\\n--- Optimized Model Results ---\")\n",
    "print(f\"Accuracy: {accuracy_tuned:.4f}\")\n",
    "print(f\"Precision: {precision_tuned:.4f}\")\n",
    "print(f\"Recall: {recall_tuned:.4f}\")\n",
    "print(f\"F1-Score: {f1_tuned:.4f}\")\n",
    "\n",
    "# Generate and visualize the Confusion Matrix for the optimized model\n",
    "conf_matrix_tuned = confusion_matrix(y_test, y_pred_tuned)\n",
    "\n",
    "print(\"\\n Optimized Confusion Matrix:\")\n",
    "print(conf_matrix_tuned)\n",
    "\n",
    "plt.figure(figsize=(8, 6))\n",
    "sns.heatmap(conf_matrix_tuned, annot=True, fmt='d', cmap='Blues',\n",
    "    xticklabels=['Down (0)', 'Up (1)'],\n",
    "    yticklabels=['Down (0)', 'Up (1)'])\n",
    "plt.xlabel('Optimized Model Predictions')\n",
    "plt.ylabel('Actual Values')\n",
    "plt.title('Optimized Model Confusion Matrix')\n",
    "plt.show()"
   ]
  },
  {
   "cell_type": "markdown",
   "id": "2cb84410-5f20-40a1-865b-fa4c5bef229e",
   "metadata": {},
   "source": [
    "# Save the optimized model"
   ]
  },
  {
   "cell_type": "code",
   "execution_count": null,
   "id": "e3c90890-0ece-4805-af60-b04ba674b481",
   "metadata": {},
   "outputs": [],
   "source": [
    "\n",
    "\n",
    "# Definir o caminho e o nome do arquivo .pkl\n",
    "model_output_path = '../model/'\n",
    "model_filename_tuned = 'alpha_predictor_model_tuned.pkl'\n",
    "\n",
    "# Criar a pasta 'model' se ela não existir\n",
    "os.makedirs(model_output_path, exist_ok=True)\n",
    "\n",
    "# Salvar o modelo otimizado\n",
    "joblib.dump(best_model, os.path.join(model_output_path, model_filename_tuned))\n",
    "\n",
    "print(f\"\\nModelo otimizado salvo com sucesso em: {os.path.join(model_output_path, model_filename_tuned)}\")"
   ]
  }
 ],
 "metadata": {
  "kernelspec": {
   "display_name": "Python (alpha_predictor_env)",
   "language": "python",
   "name": "alpha_predictor_env"
  },
  "language_info": {
   "codemirror_mode": {
    "name": "ipython",
    "version": 3
   },
   "file_extension": ".py",
   "mimetype": "text/x-python",
   "name": "python",
   "nbconvert_exporter": "python",
   "pygments_lexer": "ipython3",
   "version": "3.10.0"
  }
 },
 "nbformat": 4,
 "nbformat_minor": 5
}
