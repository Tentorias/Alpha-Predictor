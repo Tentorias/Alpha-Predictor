{
 "cells": [
  {
   "cell_type": "markdown",
   "id": "3e2b39f1-64d4-4ba3-8404-c06f3e5fdfe9",
   "metadata": {},
   "source": [
    "# Load Lib"
   ]
  },
  {
   "cell_type": "code",
   "execution_count": 10,
   "id": "1a5a072e-1df3-426c-89c9-7ee9047492fd",
   "metadata": {},
   "outputs": [],
   "source": [
    "import pandas as pd\n",
    "import numpy as np\n",
    "import os\n",
    "import joblib\n",
    "from sklearn.ensemble import RandomForestClassifier\n",
    "from sklearn.model_selection import RandomizedSearchCV\n",
    "from sklearn.metrics import accuracy_score, precision_score, recall_score, f1_score, confusion_matrix\n",
    "import seaborn as sns\n",
    "import matplotlib.pyplot as plt"
   ]
  },
  {
   "cell_type": "markdown",
   "id": "d978f0ed-d86a-4f3e-9e9a-b1837d684a5a",
   "metadata": {},
   "source": [
    "# Load Dataset"
   ]
  },
  {
   "cell_type": "code",
   "execution_count": 11,
   "id": "d58bb393-ca87-4125-b91a-d7b2ebfdce2f",
   "metadata": {},
   "outputs": [],
   "source": [
    "processed_data_path = '../data/processed/combined_data.csv'"
   ]
  },
  {
   "cell_type": "code",
   "execution_count": 12,
   "id": "1193c8ac-befb-4389-9bae-cbb93514ce9b",
   "metadata": {},
   "outputs": [
    {
     "name": "stdout",
     "output_type": "stream",
     "text": [
      "Successfully loaded combined DataFrame for fitting.\n",
      "\n",
      "Data chronological split complete.\n",
      "Training set size: 2200 (80.00%)\n",
      "Test set size: 550 (20.00%)\n",
      "Training start date: 2020-02-07 00:00:00 | Training end date: 2025-08-18 00:00:00\n",
      "Test start date: 2023-06-06 00:00:00 | Test end date: 2025-08-18 00:00:00\n"
     ]
    }
   ],
   "source": [
    "try:\n",
    "    combined_df = pd.read_csv(processed_data_path, index_col = \"Date\", parse_dates = True)\n",
    "    print(\"Successfully loaded combined DataFrame for fitting.\")\n",
    "except FileNotFoundError:\n",
    "    print(f\"Error: File {processed_data_path} not found. Run preprocessing notebook.\")\n",
    "\n",
    "# Separation of features (X) and target variable (y)\n",
    "X = combined_df.drop(\"target\", axis = 1)\n",
    "y = combined_df[\"target\"]\n",
    "\n",
    "# Chronological division of data\n",
    "train_size = int(0.8 * len(combined_df))\n",
    "\n",
    "X_train = X.iloc[:train_size]\n",
    "X_test = X.iloc[train_size:]\n",
    "\n",
    "y_train = y.iloc[:train_size]\n",
    "y_test = y.iloc[train_size:]\n",
    "\n",
    "print(f\"\\nData chronological split complete.\")\n",
    "print(f\"Training set size: {len(X_train)} ({len(X_train)/len(combined_df):.2%})\")\n",
    "print(f\"Test set size: {len(X_test)} ({len(X_test)/len(combined_df):.2%})\")\n",
    "print(f\"Training start date: {X_train.index.min()} | Training end date: {X_train.index.max()}\")\n",
    "print(f\"Test start date: {X_test.index.min()} | Test end date: {X_test.index.max()}\")"
   ]
  },
  {
   "cell_type": "markdown",
   "id": "ba37327b-06dd-450b-8594-f1fc7c7ff580",
   "metadata": {},
   "source": [
    "# Hyperparameter Tuning"
   ]
  },
  {
   "cell_type": "code",
   "execution_count": 13,
   "id": "45921096-dd7c-473a-95a1-ef4e5c388a4d",
   "metadata": {},
   "outputs": [],
   "source": [
    "# Hyperparameters to be optimized in RandomForestClassifier\n",
    "param_grid = {\n",
    "    \"n_estimators\": [int(x) for x in np.linspace(start = 100, stop = 1000, num = 10)],\n",
    "    \"max_features\": [\"sqrt\", \"log2\"],\n",
    "    \"max_depth\": [int(x) for x in np.linspace(10, 110, num = 11)] + [None],\n",
    "    \"min_samples_split\": [2, 5, 10],\n",
    "    \"min_samples_leaf\": [1, 2, 4],\n",
    "    \"bootstrap\": [True, False]\n",
    "}"
   ]
  },
  {
   "cell_type": "markdown",
   "id": "578ba8dc-475c-4cb0-8238-81b2a8a65c51",
   "metadata": {},
   "source": [
    "# Evaluate the optimized model"
   ]
  },
  {
   "cell_type": "code",
   "execution_count": 14,
   "id": "0db2fd9f-4bbf-4ab5-879f-22af9ce7fff4",
   "metadata": {},
   "outputs": [
    {
     "name": "stdout",
     "output_type": "stream",
     "text": [
      "\n",
      "Starting Randomized Search for hyperparameter tuning...\n",
      "Fitting 5 folds for each of 100 candidates, totalling 500 fits\n",
      "\\Best hyperparameters found:\n",
      "{'n_estimators': 100, 'min_samples_split': 5, 'min_samples_leaf': 4, 'max_features': 'sqrt', 'max_depth': 10, 'bootstrap': True}\n",
      "\n",
      "--- Optimized Model Results ---\n",
      "Accuracy: 0.5164\n",
      "Precision: 0.4778\n",
      "Recall: 0.5534\n",
      "F1-Score: 0.5128\n",
      "\n",
      " Optimized Confusion Matrix:\n",
      "[[144 153]\n",
      " [113 140]]\n"
     ]
    },
    {
     "data": {
      "image/png": "[encoded data removed]",
      "text/plain": [
       "<Figure size 800x600 with 2 Axes>"
      ]
     },
     "metadata": {},
     "output_type": "display_data"
    }
   ],
   "source": [
    "# Instantiate the base model for Randomized Search\n",
    "rf = RandomForestClassifier(random_state = 42)\n",
    "\n",
    "# Configure RandomizedSearchCV\n",
    "# n_iter: Number of hyperparameter combinations to test (100 is a good starting number)\n",
    "# cv: Number of folds for cross-validation (usually 5)\n",
    "# n_jobs: -1 to use all processor cores to speed up the process\n",
    "rf_random = RandomizedSearchCV(estimator = rf, param_distributions = param_grid, n_iter = 100, cv = 5, verbose = 2, random_state = 42, n_jobs = -1, scoring = \"f1\")\n",
    "\n",
    "print(\"\\nStarting Randomized Search for hyperparameter tuning...\")\n",
    "\n",
    "rf_random.fit(X_train, y_train)\n",
    "\n",
    "print(\"\\Best hyperparameters found:\")\n",
    "print(rf_random.best_params_)\n",
    "\n",
    "# Get the best Randomized Search model\n",
    "best_model = rf_random.best_estimator_\n",
    "\n",
    "# Make predictions with the optimized model on the test set\n",
    "y_pred_tuned = best_model.predict(X_test)\n",
    "\n",
    "# Calculate and display performance metrics\n",
    "accuracy_tuned = accuracy_score(y_test, y_pred_tuned)\n",
    "precision_tuned = precision_score(y_test, y_pred_tuned)\n",
    "recall_tuned = recall_score(y_test, y_pred_tuned)\n",
    "f1_tuned = f1_score(y_test, y_pred_tuned)\n",
    "\n",
    "print(\"\\n--- Optimized Model Results ---\")\n",
    "print(f\"Accuracy: {accuracy_tuned:.4f}\")\n",
    "print(f\"Precision: {precision_tuned:.4f}\")\n",
    "print(f\"Recall: {recall_tuned:.4f}\")\n",
    "print(f\"F1-Score: {f1_tuned:.4f}\")\n",
    "\n",
    "# Generate and visualize the Confusion Matrix for the optimized model\n",
    "conf_matrix_tuned = confusion_matrix(y_test, y_pred_tuned)\n",
    "\n",
    "print(\"\\n Optimized Confusion Matrix:\")\n",
    "print(conf_matrix_tuned)\n",
    "\n",
    "plt.figure(figsize=(8, 6))\n",
    "sns.heatmap(conf_matrix_tuned, annot=True, fmt='d', cmap='Blues',\n",
    "    xticklabels=['Down (0)', 'Up (1)'],\n",
    "    yticklabels=['Down (0)', 'Up (1)'])\n",
    "plt.xlabel('Optimized Model Predictions')\n",
    "plt.ylabel('Actual Values')\n",
    "plt.title('Optimized Model Confusion Matrix')\n",
    "plt.show()"
   ]
  },
  {
   "cell_type": "code",
   "execution_count": 15,
   "id": "3490f707-8bc6-4caa-88e6-a03d03d60710",
   "metadata": {},
   "outputs": [
    {
     "name": "stdout",
     "output_type": "stream",
     "text": [
      "\n",
      "Modelo otimizado salvo com sucesso em: ../data/model/alpha_predictor_model_tuned.pkl\n"
     ]
    }
   ],
   "source": [
    "# --- Bloco para salvar o modelo otimizado ---\n",
    "# Correção: O caminho do arquivo foi ajustado para a nova estrutura de pastas\n",
    "model_output_path = '../data/model/'\n",
    "model_filename_tuned = 'alpha_predictor_model_tuned.pkl'\n",
    "os.makedirs(model_output_path, exist_ok=True)\n",
    "joblib.dump(best_model, os.path.join(model_output_path, model_filename_tuned))\n",
    "\n",
    "print(f\"\\nModelo otimizado salvo com sucesso em: {os.path.join(model_output_path, model_filename_tuned)}\")"
   ]
  },
  {
   "cell_type": "code",
   "execution_count": null,
   "id": "c8541ec8-9321-4c1d-acbe-a3b02c0ccfc9",
   "metadata": {},
   "outputs": [],
   "source": []
  },
  {
   "cell_type": "code",
   "execution_count": null,
   "id": "49e7179a-f5df-44b8-bc9d-43f3ee97e156",
   "metadata": {},
   "outputs": [],
   "source": []
  }
 ],
 "metadata": {
  "kernelspec": {
   "display_name": "Python (alpha_predictor_env)",
   "language": "python",
   "name": "alpha_predictor_env"
  },
  "language_info": {
   "codemirror_mode": {
    "name": "ipython",
    "version": 3
   },
   "file_extension": ".py",
   "mimetype": "text/x-python",
   "name": "python",
   "nbconvert_exporter": "python",
   "pygments_lexer": "ipython3",
   "version": "3.10.0"
  }
 },
 "nbformat": 4,
 "nbformat_minor": 5
}
