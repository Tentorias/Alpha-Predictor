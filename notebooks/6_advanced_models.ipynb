{
 "cells": [
  {
   "cell_type": "markdown",
   "id": "d17f3877-c9a3-4f74-9ac1-a3ea84a4d2bd",
   "metadata": {},
   "source": [
    "# Import Libraries"
   ]
  },
  {
   "cell_type": "code",
   "execution_count": 15,
   "id": "62580f2b-e467-4561-9eff-db654344fd35",
   "metadata": {},
   "outputs": [],
   "source": [
    "# Import Libraries\n",
    "import pandas as pd\n",
    "import numpy as np\n",
    "import os\n",
    "import joblib\n",
    "import seaborn as sns\n",
    "import matplotlib.pyplot as plt\n",
    "\n",
    "# The XGboost model\n",
    "from xgboost import XGBClassifier\n",
    "\n",
    "# Scikit-learn for evaluation metrics\n",
    "from sklearn.metrics import accuracy_score, precision_score, recall_score, f1_score, confusion_matrix"
   ]
  },
  {
   "cell_type": "markdown",
   "id": "53f4c547-a5b5-4b2f-b67d-be5924269320",
   "metadata": {},
   "source": [
    "# --- Load the Processed Dataframe ---"
   ]
  },
  {
   "cell_type": "code",
   "execution_count": 16,
   "id": "498ffa15-f355-4dc7-9a44-bf425b616fd5",
   "metadata": {},
   "outputs": [
    {
     "name": "stdout",
     "output_type": "stream",
     "text": [
      "Combined DataFrame loaded successfully.\n"
     ]
    }
   ],
   "source": [
    "processed_data_path = '../data/processed/combined_data.csv'\n",
    "\n",
    "try:\n",
    "    combined_df = pd.read_csv(processed_data_path, index_col = \"Date\", parse_dates = True)\n",
    "    print(\"Combined DataFrame loaded successfully.\")\n",
    "except FileNotFoundError:\n",
    "    print(f\"Error: File {processed_data_path} not found. Please run the preprocessing notebook first.\")"
   ]
  },
  {
   "cell_type": "markdown",
   "id": "f9cd4e73-465a-4dcf-8bfc-ed6a4dface51",
   "metadata": {},
   "source": [
    "# --- Separate features (X) and target variable (y) ---"
   ]
  },
  {
   "cell_type": "code",
   "execution_count": 21,
   "id": "d2f765b4-7837-4867-a4d6-6e29a91dc4fa",
   "metadata": {},
   "outputs": [
    {
     "name": "stdout",
     "output_type": "stream",
     "text": [
      "\n",
      "Data chronological split complete.\n",
      "Training set size: 2200\n",
      "Test set size: 550\n"
     ]
    }
   ],
   "source": [
    "X = combined_df.drop(\"target\", axis = 1)\n",
    "y = combined_df[\"target\"]\n",
    "\n",
    "# --- Chronological data split ---\n",
    "train_size = int(0.80 * len (combined_df))\n",
    "\n",
    "X_train = X.iloc[:train_size]\n",
    "X_test = X.iloc[train_size:]\n",
    "\n",
    "y_train = y.iloc[:train_size]\n",
    "y_test = y.iloc[train_size:]\n",
    "\n",
    "print(\"\\nData chronological split complete.\")\n",
    "print(f\"Training set size: {len(X_train)}\")\n",
    "print(f\"Test set size: {len(X_test)}\")"
   ]
  },
  {
   "cell_type": "markdown",
   "id": "df96d6c5-20ce-446b-85d2-ef80ce389126",
   "metadata": {},
   "source": [
    "# --- Model instantiation and training (XGBoost) ---"
   ]
  },
  {
   "cell_type": "code",
   "execution_count": 23,
   "id": "ae18037f-d061-4cea-b98f-d9a515a0d850",
   "metadata": {},
   "outputs": [
    {
     "name": "stdout",
     "output_type": "stream",
     "text": [
      "\n",
      "Starting XGBoost model training...\n",
      "XGBoost model training completed successfully!\n",
      "\n",
      "--- XGBoost Model Results ---\n",
      "Accuracy: 0.5345\n",
      "Precision: 0.4939\n",
      "Recall: 0.4822\n",
      "F1-Score: 0.4880\n"
     ]
    },
    {
     "name": "stderr",
     "output_type": "stream",
     "text": [
      "C:\\Users\\mathe\\Documents\\Alpha-Predictor\\alpha_predictor_env\\lib\\site-packages\\xgboost\\training.py:183: UserWarning: [11:54:13] WARNING: C:\\actions-runner\\_work\\xgboost\\xgboost\\src\\learner.cc:738: \n",
      "Parameters: { \"use_label_encoder\" } are not used.\n",
      "\n",
      "  bst.update(dtrain, iteration=i, fobj=obj)\n"
     ]
    }
   ],
   "source": [
    "# A basic XGBoost model is created with 'use_label_encoder' and 'eval_metric' to suppress warnings\n",
    "model_xgb = XGBClassifier(n_estimators=100, random_state=42, use_label_encoder=False, eval_metric='logloss')\n",
    "\n",
    "print(\"\\nStarting XGBoost model training...\")\n",
    "model_xgb.fit(X_train, y_train)\n",
    "print(\"XGBoost model training completed successfully!\")\n",
    "\n",
    "# --- Model evaluation ---\n",
    "y_pred_xgb = model_xgb.predict(X_test)\n",
    "\n",
    "accuracy_xgb = accuracy_score(y_test, y_pred_xgb)\n",
    "precision_xgb = precision_score(y_test, y_pred_xgb)\n",
    "recall_xgb = recall_score(y_test, y_pred_xgb)\n",
    "f1_xgb = f1_score(y_test, y_pred_xgb)\n",
    "\n",
    "print(\"\\n--- XGBoost Model Results ---\")\n",
    "print(f\"Accuracy: {accuracy_xgb:.4f}\")\n",
    "print(f\"Precision: {precision_xgb:.4f}\")\n",
    "print(f\"Recall: {recall_xgb:.4f}\")\n",
    "print(f\"F1-Score: {f1_xgb:.4f}\")"
   ]
  },
  {
   "cell_type": "markdown",
   "id": "9bbf93f8-bf5a-4ddb-86df-8fcc471c6052",
   "metadata": {},
   "source": [
    "# --- Confusion Matrix visualization ---"
   ]
  },
  {
   "cell_type": "code",
   "execution_count": 25,
   "id": "1224723f-3dac-4358-ab52-e551b5e1bb8e",
   "metadata": {},
   "outputs": [
    {
     "name": "stdout",
     "output_type": "stream",
     "text": [
      "\n",
      "Confusion Matrix:\n",
      "[[172 125]\n",
      " [131 122]]\n"
     ]
    },
    {
     "data": {
      "image/png": "[encoded data removed]",
      "text/plain": [
       "<Figure size 800x600 with 2 Axes>"
      ]
     },
     "metadata": {},
     "output_type": "display_data"
    },
    {
     "name": "stdout",
     "output_type": "stream",
     "text": [
      "\n",
      "Trained XGBoost model successfully saved to: ../data/model/alpha_predictor_model_xgb.pkl\n"
     ]
    }
   ],
   "source": [
    "print(\"\\nConfusion Matrix:\")\n",
    "print(conf_matrix_xgb)\n",
    "\n",
    "conf_matrix_xgb = confusion_matrix(y_test, y_pred_xgb)\n",
    "plt.figure(figsize=(8, 6))\n",
    "sns.heatmap(conf_matrix_xgb, annot=True, fmt='d', cmap='Oranges',\n",
    "            xticklabels=['Down (0)', 'Up (1)'],\n",
    "            yticklabels=['Down (0)', 'Up (1)'])\n",
    "plt.xlabel('XGBoost Model Predictions')\n",
    "plt.ylabel('Actual Values')\n",
    "plt.title('XGBoost Confusion Matrix')\n",
    "plt.show()\n",
    "\n",
    "# --- Saving the Model for production ---\n",
    "model_output_path = \"../data/model/\"\n",
    "model_filename_xgb = \"alpha_predictor_model_xgb.pkl\"\n",
    "os.makedirs(model_output_path, exist_ok=True)\n",
    "joblib.dump(model_xgb, os.path.join(model_output_path, model_filename_xgb))\n",
    "\n",
    "print(f\"\\nTrained XGBoost model successfully saved to: {os.path.join(model_output_path, model_filename_xgb)}\")"
   ]
  },
  {
   "cell_type": "code",
   "execution_count": null,
   "id": "4fcfba7e-92f6-417f-bcb9-fec252f2bc0b",
   "metadata": {},
   "outputs": [],
   "source": []
  }
 ],
 "metadata": {
  "kernelspec": {
   "display_name": "Python (alpha_predictor_env)",
   "language": "python",
   "name": "alpha_predictor_env"
  },
  "language_info": {
   "codemirror_mode": {
    "name": "ipython",
    "version": 3
   },
   "file_extension": ".py",
   "mimetype": "text/x-python",
   "name": "python",
   "nbconvert_exporter": "python",
   "pygments_lexer": "ipython3",
   "version": "3.10.0"
  }
 },
 "nbformat": 4,
 "nbformat_minor": 5
}
