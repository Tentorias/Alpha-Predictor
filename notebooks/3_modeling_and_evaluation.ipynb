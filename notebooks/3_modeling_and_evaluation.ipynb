{
 "cells": [
  {
   "cell_type": "markdown",
   "id": "c1bb64a4-565a-4b1e-8291-c19140f3f8d7",
   "metadata": {},
   "source": [
    "# Import Lib"
   ]
  },
  {
   "cell_type": "code",
   "execution_count": 6,
   "id": "e865b1f5-7224-4245-be4e-5a9d01d036d6",
   "metadata": {},
   "outputs": [],
   "source": [
    "import pandas as pd\n",
    "import joblib\n",
    "import os\n",
    "import seaborn as sns\n",
    "import matplotlib.pyplot as plt\n",
    "\n",
    "\n",
    "from sklearn.ensemble import RandomForestClassifier\n",
    "from sklearn.model_selection import train_test_split\n",
    "from sklearn.metrics import accuracy_score, precision_score, recall_score, f1_score, confusion_matrix"
   ]
  },
  {
   "cell_type": "code",
   "execution_count": 7,
   "id": "32e75fdc-c90d-4669-b56d-38512889df40",
   "metadata": {},
   "outputs": [
    {
     "name": "stdout",
     "output_type": "stream",
     "text": [
      "Combined DataFrame loaded successfully\n"
     ]
    }
   ],
   "source": [
    "# --- Block 1: Load the processed DataFrame ---\n",
    "processed_data_path = '../data/processed/combined_data.csv'\n",
    "\n",
    "try:\n",
    "    combined_df = pd.read_csv(processed_data_path, index_col = \"Date\", parse_dates = True)\n",
    "    print(\"Combined DataFrame loaded successfully\")\n",
    "except FileNotFoundError:\n",
    "    print(f\"Error: File {processed_data_path} not found. Run preprocessing notebook.\")\n"
   ]
  },
  {
   "cell_type": "markdown",
   "id": "756b596f-ab96-4e47-b0a9-ebcaee8502ff",
   "metadata": {},
   "source": [
    "# Separation of features (X) and target variable (y)"
   ]
  },
  {
   "cell_type": "code",
   "execution_count": 8,
   "id": "63e41744-12d1-46c5-b2a9-ab913bdae0ae",
   "metadata": {},
   "outputs": [
    {
     "name": "stdout",
     "output_type": "stream",
     "text": [
      "\n",
      "Features (X) and target variable (y) separated.\n",
      "Feature columns (X): ['Close', 'Volume', 'Daily_Return', 'SMA_5', 'SMA_10', 'SMA_20', 'RSI', 'MACD']\n"
     ]
    }
   ],
   "source": [
    "X = combined_df.drop(\"target\", axis = 1)\n",
    "y = combined_df[\"target\"]\n",
    "\n",
    "print(\"\\nFeatures (X) and target variable (y) separated.\")\n",
    "print(f\"Feature columns (X): {X.columns.tolist()}\")"
   ]
  },
  {
   "cell_type": "markdown",
   "id": "638210d6-2a28-49d1-b197-adb74ebda469",
   "metadata": {},
   "source": [
    "# Chronological division of data "
   ]
  },
  {
   "cell_type": "code",
   "execution_count": 9,
   "id": "b0a1e335-a471-4cdb-8fbf-e8cfb6920b2f",
   "metadata": {},
   "outputs": [
    {
     "name": "stdout",
     "output_type": "stream",
     "text": [
      "\n",
      "Data chronological split complete.\n",
      "Training set size: 2200 (80.00%)\n",
      "Test set size: 550 (20.00%)\n",
      "Training start date: 2020-02-07 00:00:00 | Training end date: 2025-08-18 00:00:00\n",
      "Test start date: 2023-06-06 00:00:00 | Test end date: 2025-08-18 00:00:00\n"
     ]
    }
   ],
   "source": [
    "# 80% of the oldest data for training and 20% of the newest data for testing.\n",
    "\n",
    "train_size = int(0.80 * len(combined_df))\n",
    "\n",
    "X_train = X.iloc[:train_size]\n",
    "X_test = X.iloc[train_size:]\n",
    "\n",
    "y_train = y.iloc[:train_size]\n",
    "y_test = y.iloc[train_size:]\n",
    "\n",
    "print(f\"\\nData chronological split complete.\")\n",
    "print(f\"Training set size: {len(X_train)} ({len(X_train)/len(combined_df):.2%})\")\n",
    "print(f\"Test set size: {len(X_test)} ({len(X_test)/len(combined_df):.2%})\")\n",
    "print(f\"Training start date: {X_train.index.min()} | Training end date: {X_train.index.max()}\")\n",
    "print(f\"Test start date: {X_test.index.min()} | Test end date: {X_test.index.max()}\")"
   ]
  },
  {
   "cell_type": "markdown",
   "id": "8d9e467e-395b-4b80-951d-0c2f413f7c7a",
   "metadata": {},
   "source": [
    "# Model instantiation and training"
   ]
  },
  {
   "cell_type": "code",
   "execution_count": 10,
   "id": "ceddfb94-f8bc-4a8f-8d0c-245bce956f31",
   "metadata": {},
   "outputs": [
    {
     "name": "stdout",
     "output_type": "stream",
     "text": [
      "\n",
      "Starting model training...\n",
      "Model training completed successfully!\n"
     ]
    }
   ],
   "source": [
    "model = RandomForestClassifier(n_estimators = 100, random_state = 42)\n",
    "\n",
    "print(\"\\nStarting model training...\")\n",
    "model.fit(X_train, y_train)\n",
    "print(\"Model training completed successfully!\")"
   ]
  },
  {
   "cell_type": "markdown",
   "id": "3bbf015c-958c-4acc-8dbf-f6be51255f7d",
   "metadata": {},
   "source": [
    "# Model Evaluation"
   ]
  },
  {
   "cell_type": "code",
   "execution_count": 11,
   "id": "5c38b268-a036-4b4e-ac6b-08dd02dc80c4",
   "metadata": {},
   "outputs": [
    {
     "name": "stdout",
     "output_type": "stream",
     "text": [
      "Accuracy:  0.5200\n",
      "Precision:  0.4777\n",
      "Recall:  0.4664\n",
      "F1-Score:  0.4720\n",
      "\n",
      "Confusion Matrix:\n",
      "[[168 129]\n",
      " [135 118]]\n"
     ]
    },
    {
     "data": {
      "image/png": "[encoded data removed]",
      "text/plain": [
       "<Figure size 800x600 with 2 Axes>"
      ]
     },
     "metadata": {},
     "output_type": "display_data"
    }
   ],
   "source": [
    "# Prediction and Evaluation Metrics\n",
    "y_pred = model.predict(X_test)\n",
    "\n",
    "# Calculate Performance Metrics\n",
    "accuracy = accuracy_score(y_test, y_pred)\n",
    "precision = precision_score(y_test, y_pred)\n",
    "recall = recall_score(y_test, y_pred)\n",
    "f1 = f1_score(y_test, y_pred)\n",
    "\n",
    "print(f\"Accuracy: {accuracy: .4f}\")\n",
    "print(f\"Precision: {precision: .4f}\")\n",
    "print(f\"Recall: {recall: .4f}\")\n",
    "print(f\"F1-Score: {f1: .4f}\")\n",
    "\n",
    "# Generate the Confusion Matrix\n",
    "conf_matrix = confusion_matrix(y_test, y_pred)\n",
    "\n",
    "print(\"\\nConfusion Matrix:\")\n",
    "print(conf_matrix)\n",
    "\n",
    "# Visualize the Confusion Matrix for Better Understanding\n",
    "plt.figure(figsize = (8, 6))\n",
    "sns.heatmap(conf_matrix, annot = True, fmt = \"d\", cmap = \"Blues\",\n",
    "           xticklabels = [\"Down (0)', 'Up (1)\"],\n",
    "           yticklabels = [\"Down (0)', 'Up (1)\"])\n",
    "\n",
    "plt.xlabel('Model Predictions')\n",
    "plt.ylabel('Actual Values')\n",
    "plt.title('RandomForestClassifier Confusion Matrix')\n",
    "plt.show()"
   ]
  },
  {
   "cell_type": "markdown",
   "id": "c9253326-c0a1-486c-8134-e238af88e8d0",
   "metadata": {},
   "source": [
    "# Exporting the Test DataFrame"
   ]
  },
  {
   "cell_type": "code",
   "execution_count": 12,
   "id": "093de579-fd3a-4f7d-987c-53c46fe17be3",
   "metadata": {},
   "outputs": [
    {
     "name": "stdout",
     "output_type": "stream",
     "text": [
      "\n",
      "Test Results DataFrame:\n",
      "                Close      Volume  Daily_Return      SMA_5     SMA_10  \\\n",
      "Date                                                                    \n",
      "2023-06-06  54.173725  31884200.0      0.003265  53.194434  52.749665   \n",
      "2023-06-07  55.031212  27377500.0      0.015828  53.973382  53.039766   \n",
      "2023-06-09  54.782780  30056800.0     -0.004514  54.486269  53.321053   \n",
      "2023-06-12  53.789066  26651200.0     -0.018139  54.354842  53.384362   \n",
      "2023-06-13  54.358047  34288100.0      0.010578  54.426966  53.544640   \n",
      "\n",
      "               SMA_20        RSI      MACD  Actual_Target  Predicted_Target  \n",
      "Date                                                                         \n",
      "2023-06-06  53.857581  46.860451 -1.307324              1                 1  \n",
      "2023-06-07  53.829933  50.446151 -1.088028              0                 0  \n",
      "2023-06-09  53.843957  49.405990 -0.923634              0                 0  \n",
      "2023-06-12  53.805491  45.375718 -0.863580              1                 0  \n",
      "2023-06-13  53.756206  47.991781 -0.761299              1                 0  \n",
      "\n",
      "Results DataFrame exported to: ../data/results\\model_predictions.csv\n"
     ]
    }
   ],
   "source": [
    "# Preparing and Exporting the DataFrame to Power BI\n",
    "# Creating a DataFrame with the test results\n",
    "results_df = X_test.copy()\n",
    "results_df['Actual_Target'] = y_test\n",
    "results_df[\"Predicted_Target\"] = y_pred\n",
    "\n",
    "# Displaying the first few rows for verification\n",
    "print(\"\\nTest Results DataFrame:\")\n",
    "print(results_df.head())\n",
    "\n",
    "# Creating the 'data/results' folder if it doesn't exist\n",
    "results_path = \"../data/results\"\n",
    "os.makedirs(results_path, exist_ok = True)\n",
    "\n",
    "# Exporting the DataFrame to a CSV file\n",
    "results_file_path = os.path.join(results_path, \"model_predictions.csv\")\n",
    "results_df.to_csv(results_file_path, index = True)\n",
    "\n",
    "print(f\"\\nResults DataFrame exported to: {results_file_path}\")"
   ]
  },
  {
   "cell_type": "markdown",
   "id": "91be437d-0853-469e-a97f-2f9d6a49faf3",
   "metadata": {},
   "source": [
    "# Saving the Model for Production"
   ]
  },
  {
   "cell_type": "code",
   "execution_count": 13,
   "id": "0dad6333-88c1-4d0e-85b6-eee25fecf827",
   "metadata": {},
   "outputs": [
    {
     "name": "stdout",
     "output_type": "stream",
     "text": [
      "\n",
      "Trained model successfully saved to: ../data/model/alpha_predictor_model.pkl\n"
     ]
    }
   ],
   "source": [
    "# Set the path and name of the .pkl file\n",
    "model_output_path = \"../data/model/\"\n",
    "model_filename = \"alpha_predictor_model.pkl\"\n",
    "\n",
    "# Create the 'model' folder if it doesn't exist\n",
    "os.makedirs(model_output_path, exist_ok = True)\n",
    "\n",
    "# Save the model to the .pkl file\n",
    "joblib.dump(model, os.path.join(model_output_path, model_filename))\n",
    "\n",
    "print(f\"\\nTrained model successfully saved to: {os.path.join(model_output_path, model_filename)}\")"
   ]
  },
  {
   "cell_type": "code",
   "execution_count": null,
   "id": "0a8c4e7d-b0bd-4f38-a8c0-fd52058de0a5",
   "metadata": {},
   "outputs": [],
   "source": []
  },
  {
   "cell_type": "code",
   "execution_count": null,
   "id": "6fc904f2-d166-4a25-8085-106911b561f7",
   "metadata": {},
   "outputs": [],
   "source": []
  },
  {
   "cell_type": "code",
   "execution_count": null,
   "id": "6098b6b2-7d7d-41e9-b773-4ad474992e03",
   "metadata": {},
   "outputs": [],
   "source": []
  },
  {
   "cell_type": "code",
   "execution_count": null,
   "id": "0fa26692-cd01-45aa-aeb3-5156aa67581c",
   "metadata": {},
   "outputs": [],
   "source": []
  }
 ],
 "metadata": {
  "kernelspec": {
   "display_name": "Python (alpha_predictor_env)",
   "language": "python",
   "name": "alpha_predictor_env"
  },
  "language_info": {
   "codemirror_mode": {
    "name": "ipython",
    "version": 3
   },
   "file_extension": ".py",
   "mimetype": "text/x-python",
   "name": "python",
   "nbconvert_exporter": "python",
   "pygments_lexer": "ipython3",
   "version": "3.10.0"
  }
 },
 "nbformat": 4,
 "nbformat_minor": 5
}
